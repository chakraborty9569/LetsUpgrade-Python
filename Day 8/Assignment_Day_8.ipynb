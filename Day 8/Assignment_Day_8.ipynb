{
 "cells": [
  {
   "cell_type": "markdown",
   "metadata": {},
   "source": [
    "# Question 1"
   ]
  },
  {
   "cell_type": "code",
   "execution_count": 1,
   "metadata": {},
   "outputs": [
    {
     "name": "stdout",
     "output_type": "stream",
     "text": [
      "Enter the range: 20\n",
      "[0, 1, 1, 2, 3, 5, 8, 13, 21, 34, 55, 89, 144, 233, 377, 610, 987, 1597, 2584, 4181, 6765]\n"
     ]
    }
   ],
   "source": [
    "def decorator(func):\n",
    "    def wrapper(n):\n",
    "        func(n)\n",
    "    return wrapper(int(input(\"Enter the range: \")))\n",
    "\n",
    "@decorator\n",
    "def fibonacci(n):\n",
    "    a = 0\n",
    "    b = 1\n",
    "    lst=[a, b]\n",
    "    for i in range(2,n+1):\n",
    "        c=a+b\n",
    "        a=b\n",
    "        b=c\n",
    "        lst.append(c)\n",
    "    print(lst)"
   ]
  },
  {
   "cell_type": "markdown",
   "metadata": {},
   "source": [
    "# Question 2"
   ]
  },
  {
   "cell_type": "code",
   "execution_count": 6,
   "metadata": {},
   "outputs": [
    {
     "name": "stdout",
     "output_type": "stream",
     "text": [
      "File created successfully!!!\n"
     ]
    }
   ],
   "source": [
    "# creating a file\n",
    "f = open(\"NewFile.txt\", \"w\")\n",
    "f.write(\"File created successfully!!!\")\n",
    "f.close()\n",
    "\n",
    "f = open(\"NewFile.txt\", \"r\")\n",
    "print(f.read())\n",
    "f.close()"
   ]
  },
  {
   "cell_type": "code",
   "execution_count": 7,
   "metadata": {},
   "outputs": [
    {
     "name": "stdout",
     "output_type": "stream",
     "text": [
      "We cannot write a file in read mode!\n",
      "not writable\n"
     ]
    }
   ],
   "source": [
    "f = open(\"NewFile.txt\", \"r\")\n",
    "try:\n",
    "    f.write(\"Can we write in read mode?\")\n",
    "except Exception as e:\n",
    "    print(\"We cannot write a file in read mode!\")\n",
    "    print(e)\n",
    "f.close()"
   ]
  },
  {
   "cell_type": "code",
   "execution_count": null,
   "metadata": {},
   "outputs": [],
   "source": []
  }
 ],
 "metadata": {
  "kernelspec": {
   "display_name": "Python 3",
   "language": "python",
   "name": "python3"
  },
  "language_info": {
   "codemirror_mode": {
    "name": "ipython",
    "version": 3
   },
   "file_extension": ".py",
   "mimetype": "text/x-python",
   "name": "python",
   "nbconvert_exporter": "python",
   "pygments_lexer": "ipython3",
   "version": "3.7.6"
  }
 },
 "nbformat": 4,
 "nbformat_minor": 4
}
