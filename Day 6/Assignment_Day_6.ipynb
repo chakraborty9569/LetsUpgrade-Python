{
 "cells": [
  {
   "cell_type": "markdown",
   "metadata": {},
   "source": [
    "# Question 1"
   ]
  },
  {
   "cell_type": "code",
   "execution_count": 1,
   "metadata": {},
   "outputs": [],
   "source": [
    "class bank_account:\n",
    "    def __init__(self, ownerName, Balance):\n",
    "        self.ownerName = ownerName\n",
    "        self.Balance = Balance\n",
    "    \n",
    "    def deposit(self, depositBalance):\n",
    "        self.Balance = self.Balance + depositBalance\n",
    "        print(\"Amount deposited successfully\")\n",
    "        \n",
    "    def withdraw(self, withdrawBalance):\n",
    "        if self.Balance < withdrawBalance:\n",
    "            print(\"Amount cannot be withdrawn\")\n",
    "        else:\n",
    "            self.Balance -= withdrawBalance\n",
    "            print(\"Amount withdrawn successfully\")\n",
    "\n",
    "    def displayAccountBalance(self):\n",
    "        print(\"Owner Name: \",self.ownerName)\n",
    "        print(\"Current Bank Balance: \",self.Balance)"
   ]
  },
  {
   "cell_type": "code",
   "execution_count": 2,
   "metadata": {},
   "outputs": [],
   "source": [
    "bank = bank_account(\"Sumit\", 10000)"
   ]
  },
  {
   "cell_type": "code",
   "execution_count": 3,
   "metadata": {},
   "outputs": [
    {
     "name": "stdout",
     "output_type": "stream",
     "text": [
      "Owner Name:  Sumit\n",
      "Current Bank Balance:  10000\n"
     ]
    }
   ],
   "source": [
    "bank.displayAccountBalance()"
   ]
  },
  {
   "cell_type": "code",
   "execution_count": 4,
   "metadata": {},
   "outputs": [
    {
     "name": "stdout",
     "output_type": "stream",
     "text": [
      "Amount deposited successfully\n"
     ]
    }
   ],
   "source": [
    "bank.deposit(5000)"
   ]
  },
  {
   "cell_type": "code",
   "execution_count": 5,
   "metadata": {},
   "outputs": [
    {
     "name": "stdout",
     "output_type": "stream",
     "text": [
      "Owner Name:  Sumit\n",
      "Current Bank Balance:  15000\n"
     ]
    }
   ],
   "source": [
    "bank.displayAccountBalance()"
   ]
  },
  {
   "cell_type": "code",
   "execution_count": 6,
   "metadata": {},
   "outputs": [
    {
     "name": "stdout",
     "output_type": "stream",
     "text": [
      "Amount deposited successfully\n"
     ]
    }
   ],
   "source": [
    "bank.deposit(32560)"
   ]
  },
  {
   "cell_type": "code",
   "execution_count": 7,
   "metadata": {},
   "outputs": [
    {
     "name": "stdout",
     "output_type": "stream",
     "text": [
      "Owner Name:  Sumit\n",
      "Current Bank Balance:  47560\n"
     ]
    }
   ],
   "source": [
    "bank.displayAccountBalance()"
   ]
  },
  {
   "cell_type": "code",
   "execution_count": 8,
   "metadata": {},
   "outputs": [
    {
     "name": "stdout",
     "output_type": "stream",
     "text": [
      "Amount withdrawn successfully\n"
     ]
    }
   ],
   "source": [
    "bank.withdraw(25000)"
   ]
  },
  {
   "cell_type": "code",
   "execution_count": 9,
   "metadata": {},
   "outputs": [
    {
     "name": "stdout",
     "output_type": "stream",
     "text": [
      "Owner Name:  Sumit\n",
      "Current Bank Balance:  22560\n"
     ]
    }
   ],
   "source": [
    "bank.displayAccountBalance()"
   ]
  },
  {
   "cell_type": "code",
   "execution_count": 10,
   "metadata": {},
   "outputs": [
    {
     "name": "stdout",
     "output_type": "stream",
     "text": [
      "Amount withdrawn successfully\n"
     ]
    }
   ],
   "source": [
    "bank.withdraw(560)"
   ]
  },
  {
   "cell_type": "code",
   "execution_count": 11,
   "metadata": {},
   "outputs": [
    {
     "name": "stdout",
     "output_type": "stream",
     "text": [
      "Owner Name:  Sumit\n",
      "Current Bank Balance:  22000\n"
     ]
    }
   ],
   "source": [
    "bank.displayAccountBalance()"
   ]
  },
  {
   "cell_type": "code",
   "execution_count": 12,
   "metadata": {},
   "outputs": [
    {
     "name": "stdout",
     "output_type": "stream",
     "text": [
      "Amount cannot be withdrawn\n"
     ]
    }
   ],
   "source": [
    "bank.withdraw(25000)"
   ]
  },
  {
   "cell_type": "code",
   "execution_count": 13,
   "metadata": {},
   "outputs": [
    {
     "name": "stdout",
     "output_type": "stream",
     "text": [
      "Owner Name:  Sumit\n",
      "Current Bank Balance:  22000\n"
     ]
    }
   ],
   "source": [
    "bank.displayAccountBalance()"
   ]
  },
  {
   "cell_type": "markdown",
   "metadata": {},
   "source": [
    "# Question 2"
   ]
  },
  {
   "cell_type": "code",
   "execution_count": 14,
   "metadata": {},
   "outputs": [],
   "source": [
    "import math"
   ]
  },
  {
   "cell_type": "code",
   "execution_count": 15,
   "metadata": {},
   "outputs": [],
   "source": [
    "class cone:\n",
    "    def __init__(self, R, h):\n",
    "        self.R = R\n",
    "        self.h = h\n",
    "    \n",
    "    def Volume(self):\n",
    "        volume = (1/3)*math.pi*math.pow(self.R,2)*self.h\n",
    "        print(\"Volume= \",volume)\n",
    "    \n",
    "    def Surface_area(self):\n",
    "        base = math.pi*math.pow(self.R,2)\n",
    "        side = math.pi*self.R*math.sqrt(math.pow(self.R,2)+math.pow(self.h,2))\n",
    "        area = base+side\n",
    "        print(\"Surface area= \",area)"
   ]
  },
  {
   "cell_type": "code",
   "execution_count": 16,
   "metadata": {},
   "outputs": [],
   "source": [
    "c = cone(2.5, 20)"
   ]
  },
  {
   "cell_type": "code",
   "execution_count": 17,
   "metadata": {},
   "outputs": [
    {
     "name": "stdout",
     "output_type": "stream",
     "text": [
      "Surface area=  177.93701479369938\n"
     ]
    }
   ],
   "source": [
    "c.Surface_area()"
   ]
  },
  {
   "cell_type": "code",
   "execution_count": 18,
   "metadata": {},
   "outputs": [
    {
     "name": "stdout",
     "output_type": "stream",
     "text": [
      "Volume=  130.89969389957471\n"
     ]
    }
   ],
   "source": [
    "c.Volume()"
   ]
  },
  {
   "cell_type": "code",
   "execution_count": null,
   "metadata": {},
   "outputs": [],
   "source": []
  }
 ],
 "metadata": {
  "kernelspec": {
   "display_name": "Python 3",
   "language": "python",
   "name": "python3"
  },
  "language_info": {
   "codemirror_mode": {
    "name": "ipython",
    "version": 3
   },
   "file_extension": ".py",
   "mimetype": "text/x-python",
   "name": "python",
   "nbconvert_exporter": "python",
   "pygments_lexer": "ipython3",
   "version": "3.7.6"
  }
 },
 "nbformat": 4,
 "nbformat_minor": 4
}
